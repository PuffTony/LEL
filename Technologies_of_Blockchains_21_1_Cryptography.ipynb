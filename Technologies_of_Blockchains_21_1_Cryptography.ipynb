{
  "nbformat": 4,
  "nbformat_minor": 0,
  "metadata": {
    "colab": {
      "name": "Technologies of Blockchains 21 - 1. Cryptography.ipynb",
      "private_outputs": true,
      "provenance": [],
      "collapsed_sections": [],
      "include_colab_link": true
    },
    "kernelspec": {
      "name": "python3",
      "display_name": "Python 3"
    }
  },
  "cells": [
    {
      "cell_type": "markdown",
      "metadata": {
        "id": "view-in-github",
        "colab_type": "text"
      },
      "source": [
        "<a href=\"https://colab.research.google.com/github/PuffTony/LEL/blob/main/Technologies_of_Blockchains_21_1_Cryptography.ipynb\" target=\"_parent\"><img src=\"https://colab.research.google.com/assets/colab-badge.svg\" alt=\"Open In Colab\"/></a>"
      ]
    },
    {
      "cell_type": "markdown",
      "metadata": {
        "id": "VTzaA9jOvtb5"
      },
      "source": [
        "# Cryptographic hash function\n",
        "A cryptographic hash function is a deterministic one way function that associate a fixed length output with any data"
      ]
    },
    {
      "cell_type": "markdown",
      "metadata": {
        "id": "9F6MJhynawxE"
      },
      "source": [
        "First, a basic reminder. Internally, a computer represents any data as a number (ASCII, Unicode). For instance looking at letters, we can use the *ord()* function"
      ]
    },
    {
      "cell_type": "code",
      "metadata": {
        "id": "hARtV00CufLl"
      },
      "source": [
        "print('a',ord('a'))\n",
        "print('b',ord('b'))\n",
        "print('c',ord('c'))\n"
      ],
      "execution_count": null,
      "outputs": []
    },
    {
      "cell_type": "markdown",
      "metadata": {
        "id": "8X6AAAmFQOD6"
      },
      "source": [
        "*What is the unicode of H?*\n",
        "\n",
        "\n",
        "\n"
      ]
    },
    {
      "cell_type": "markdown",
      "metadata": {
        "id": "rDampYN-gTe2"
      },
      "source": [
        "Similarly , the hex() function gives us the hexadecimal representation of a number. Two hexadecimal digits represent a byte\n"
      ]
    },
    {
      "cell_type": "code",
      "metadata": {
        "id": "DAoICVJugSXx"
      },
      "source": [
        "print('2',hex(2))\n",
        "print('17',hex(17))\n",
        "print('67',hex(67))"
      ],
      "execution_count": null,
      "outputs": []
    },
    {
      "cell_type": "markdown",
      "metadata": {
        "id": "H9oTstMfSfJu"
      },
      "source": [
        "### Pseudohash \n",
        "\n",
        "The following function is not a valid cryptographic hash function, but we will try to have similar similar properties"
      ]
    },
    {
      "cell_type": "code",
      "metadata": {
        "id": "nyBIkcV3i9Pn"
      },
      "source": [
        "def pseudohash1(message):\n",
        "  # This function takes message, a string, as parameter\n",
        "  # It returns a pseudohash, a number, to represent this string  \n",
        "  result=0                        # Initialisation\n",
        "  for character in message:       # For loop\n",
        "    print(character, ord(character))\n",
        "    result = result + ord(character)\n",
        "  return result\n",
        "\n",
        "pseudohash1(\"lel\")\n"
      ],
      "execution_count": null,
      "outputs": []
    },
    {
      "cell_type": "markdown",
      "metadata": {
        "id": "aR6UdB8Gtm-f"
      },
      "source": [
        "We can improve it by taking into account the position of letters\n",
        "\n",
        "\n"
      ]
    },
    {
      "cell_type": "code",
      "metadata": {
        "id": "4c-SK1MsisLM"
      },
      "source": [
        "def pseudohash2(string):\n",
        "  h=0\n",
        "  for i, c in enumerate(string):\n",
        "    h = h + ord(c) * (i+1) ** 3   # To be completed\n",
        "  print(string, h)   # This allows better readability\n",
        "  return h\n",
        "\n",
        "pseudohash2(\"Hi There!\")\n",
        "pseudohash2(\"iH There!\")\n",
        "pseudohash2(\"!iH There\")"
      ],
      "execution_count": null,
      "outputs": []
    },
    {
      "cell_type": "markdown",
      "metadata": {
        "id": "SZHXEu0rvaI6"
      },
      "source": [
        "And fix the length "
      ]
    },
    {
      "cell_type": "code",
      "metadata": {
        "id": "eUydHaXuvZaA"
      },
      "source": [
        "def pseudohash3(string):\n",
        "  h=0\n",
        "  for i, c in enumerate(string):\n",
        "    h = h + ord(c) # To be completed \n",
        "  print(string, h) \n",
        "  return h\n",
        "\n",
        "pseudohash3(\"Hi There!\")"
      ],
      "execution_count": null,
      "outputs": []
    },
    {
      "cell_type": "markdown",
      "metadata": {
        "id": "vyyEk5yiwz4R"
      },
      "source": [
        "### Real hash functions\n",
        "Using a SHA256 hash function from the  *hashlib* module"
      ]
    },
    {
      "cell_type": "code",
      "metadata": {
        "id": "J1TExNgYw4c8"
      },
      "source": [
        "import hashlib\n",
        "\n",
        "def sha256(str):\n",
        "  return hashlib.sha256(bytes(str,\"UTF-8\")).hexdigest()\n",
        "\n",
        "sha256(\"Hello there\")"
      ],
      "execution_count": null,
      "outputs": []
    },
    {
      "cell_type": "markdown",
      "metadata": {
        "id": "Z0Ug3va8Yin9"
      },
      "source": [
        "#### Exercice \n",
        "🟢  To produce a verification code from a string, using the first four bytes of a hash\n",
        "\n",
        "\n",
        "\n",
        "*Hint*: aString[X:Y] gives you the characters X included to Y excluded of the string\n"
      ]
    },
    {
      "cell_type": "code",
      "metadata": {
        "id": "i5OEoFwubutK"
      },
      "source": [
        "import hashlib\n",
        "\n",
        "def sha256(str):\n",
        "  # Parameter: str (a string)\n",
        "  # Returns a hash by SHA 2 on 256 bits written in an hexadecimal form \n",
        "  return hashlib.sha256(bytes(str,\"UTF-8\")).hexdigest()\n",
        "\n",
        "def verificationCode(message):\n",
        "  pass  # To be replaced\n",
        "\n",
        "message = 'Hello there'\n",
        "code = verificationCode(message)\n",
        "\n",
        "print(\"message =\", message)\n",
        "print(\"code =\", code)\n"
      ],
      "execution_count": null,
      "outputs": []
    },
    {
      "cell_type": "markdown",
      "metadata": {
        "id": "eTEK1BZJcfOn"
      },
      "source": [
        "🟠 Verify the code produced above and the message"
      ]
    },
    {
      "cell_type": "code",
      "metadata": {
        "id": "SqV_MLOGccPX"
      },
      "source": [
        "\n",
        "def verify(message, verifCode):\n",
        "  pass  # To be replaced\n",
        "\n",
        "print(\"Verification code is\", verify(message,code))\n"
      ],
      "execution_count": null,
      "outputs": []
    },
    {
      "cell_type": "markdown",
      "metadata": {
        "id": "UN-Bx1QTd02V"
      },
      "source": [
        "⭕ [optional] Find a string which SHA256 digest starts with 'ab'   "
      ]
    },
    {
      "cell_type": "code",
      "metadata": {
        "id": "jPi_5wQ2eUq2"
      },
      "source": [
        "import hashlib\n",
        "\n",
        "def sha256(str):\n",
        "  return hashlib.sha256(bytes(str,\"UTF-8\")).hexdigest()\n",
        "\n",
        "def vanity():\n",
        "  pass\n",
        "  \n",
        "vanity()"
      ],
      "execution_count": null,
      "outputs": []
    },
    {
      "cell_type": "markdown",
      "metadata": {
        "id": "VDU-M-hQxRkJ"
      },
      "source": [
        "### Mining \n",
        "A simplistic example of mining"
      ]
    },
    {
      "cell_type": "code",
      "metadata": {
        "id": "R6tta3tS42RY"
      },
      "source": [
        "import hashlib\n",
        "\n",
        "def sha256(str):\n",
        "  return hashlib.sha256(bytes(str,\"UTF-8\")).hexdigest()\n",
        "\n",
        "def mining0(message):\n",
        "  for i in range(0,20000000):\n",
        "    if sha256(message+ str(i))[0:2]==\"00\":\n",
        "      return i\n",
        "    \n",
        "message = 'Hello there' \n",
        "mining0(message)"
      ],
      "execution_count": null,
      "outputs": []
    },
    {
      "cell_type": "markdown",
      "metadata": {
        "id": "jyuD5kMXpSEL"
      },
      "source": [
        "⭕ [optional] Complete this slightly more complete example\n"
      ]
    },
    {
      "cell_type": "code",
      "metadata": {
        "id": "YywbqEcPo7U6"
      },
      "source": [
        "def mining1(block, target):\n",
        "\t# Paremeters : block is a string , target is a number\n",
        "  # \n",
        "\t# Exercice: complete this function in a way \n",
        "  # sha256(block+nonce)< target\n",
        "  # You might want to convert the string and number to bytes\n",
        "  # and an hexadecimal to an integer\n",
        "\n",
        "  return nonce\n",
        "\n"
      ],
      "execution_count": null,
      "outputs": []
    },
    {
      "cell_type": "markdown",
      "metadata": {
        "id": "SGoLOvRwwnQS"
      },
      "source": [
        "# Assymetric cryptography\n",
        "\n",
        "A full example of signature using the ECDSA module. You need to execute the first cell to load the ECDSA module. Locally you could be able to install it typing this command in a terminal (not in a python interpreter)"
      ]
    },
    {
      "cell_type": "code",
      "metadata": {
        "id": "tDeirzRTvkxD"
      },
      "source": [
        "!pip3 install ecdsa"
      ],
      "execution_count": null,
      "outputs": []
    },
    {
      "cell_type": "markdown",
      "metadata": {
        "id": "AcfZu0R9TR8u"
      },
      "source": [
        "Simplified example"
      ]
    },
    {
      "cell_type": "code",
      "metadata": {
        "id": "H20btxG_S_LE"
      },
      "source": [
        "from ecdsa import SigningKey\n",
        "\n",
        "# Key generation\n",
        "privateKey = SigningKey.generate()\n",
        "print(\"Public Key:   \", privateKey.get_verifying_key().to_string().hex())\n",
        "print(\"Private Key:\", privateKey.to_string().hex())\n",
        "\n",
        "\n",
        "## Signature\n",
        "message= \"Message that will be signed\"\n",
        "signature = privateKey.sign(bytes(message,\"UTF-8\"))\n",
        "\n",
        "print(\"Message:    \", message)\n",
        "print(\"Signature:  \", signature.hex())"
      ],
      "execution_count": null,
      "outputs": []
    },
    {
      "cell_type": "markdown",
      "metadata": {
        "id": "OZw2S_JOTQQa"
      },
      "source": [
        "Complete example"
      ]
    },
    {
      "cell_type": "code",
      "metadata": {
        "id": "f6v6dcOuvVly"
      },
      "source": [
        "from ecdsa import SECP256k1, SigningKey\n",
        "\n",
        "def generatePrivateKey():\n",
        "  return SigningKey.generate(curve=SECP256k1)\n",
        "\n",
        "def sign(privateKey, message):\n",
        "  return privateKey.sign(bytes(message,\"UTF-8\"))\n",
        "\n",
        "def verify(privateKey, signature,message):\n",
        "  publicKey = privateKey.get_verifying_key()\n",
        "  print(\"Public Key:   \", publicKey.to_string().hex())\n",
        "  return publicKey.verify(signature, bytes(message,\"UTF-8\"))\n",
        "\n",
        "privateKey = generatePrivateKey()\n",
        "print(\"Please enter a message\")\n",
        "message=input()\n",
        "signature = sign(privateKey,message )\n",
        "\n",
        "print(\"Private Key: \", privateKey.to_string().hex())\n",
        "print(\"Public Key:   \", privateKey.get_verifying_key().to_string().hex())\n",
        "print(\"Message:     \", message)\n",
        "print(\"Signature:   \", signature.hex())\n",
        "print(\"Verification:\", verify(privateKey, signature,message))\n"
      ],
      "execution_count": null,
      "outputs": []
    }
  ]
}